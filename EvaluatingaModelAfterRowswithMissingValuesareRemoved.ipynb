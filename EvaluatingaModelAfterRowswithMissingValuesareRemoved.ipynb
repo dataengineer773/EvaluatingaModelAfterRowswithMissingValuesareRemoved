{
 "cells": [
  {
   "cell_type": "code",
   "execution_count": 1,
   "id": "8a1c44cb-d826-40e9-983c-5df2a9add1b0",
   "metadata": {},
   "outputs": [],
   "source": [
    "# evaluate model on data after rows with missing data are removed \n",
    "from numpy import nan\n",
    "from pandas import read_csv\n",
    "from sklearn.discriminant_analysis import LinearDiscriminantAnalysis\n",
    "from sklearn.model_selection import KFold\n",
    "from sklearn.model_selection import cross_val_score"
   ]
  },
  {
   "cell_type": "code",
   "execution_count": 2,
   "id": "df3c11c3-3569-4fcc-ab6e-9a913bfb3e14",
   "metadata": {},
   "outputs": [],
   "source": [
    "# load the dataset\n",
    "dataset = read_csv('abalone.csv', header=None)"
   ]
  },
  {
   "cell_type": "code",
   "execution_count": 3,
   "id": "2f9421f8-4333-4af8-9bb1-c53b7de6d817",
   "metadata": {},
   "outputs": [],
   "source": [
    "# replace '0' values with nan\n",
    "dataset[[1,2,3,4,5]] = dataset[[1,2,3,4,5]].replace(0, nan)"
   ]
  },
  {
   "cell_type": "code",
   "execution_count": 4,
   "id": "71d92181-4c0e-4faf-bad8-cac106dc3f64",
   "metadata": {},
   "outputs": [],
   "source": [
    "# drop rows with missing values\n",
    "dataset.dropna(inplace=True)"
   ]
  },
  {
   "cell_type": "code",
   "execution_count": 5,
   "id": "ad4f5385-668b-45c5-a9a5-4bc2b148b6bf",
   "metadata": {},
   "outputs": [],
   "source": [
    "# split dataset into inputs and outputs\n",
    "values = dataset.values\n",
    "X = values[:, 0:8]\n",
    "y = values[:, 8]"
   ]
  },
  {
   "cell_type": "code",
   "execution_count": 6,
   "id": "c89f0911-d436-4f37-a578-3d1e49e8e664",
   "metadata": {},
   "outputs": [],
   "source": [
    "# define the model\n",
    "model = LinearDiscriminantAnalysis()"
   ]
  },
  {
   "cell_type": "code",
   "execution_count": 7,
   "id": "acc62822-2696-46ea-a2ba-d946260444df",
   "metadata": {},
   "outputs": [],
   "source": [
    "# define the model evaluation procedure\n",
    "cv = KFold(n_splits=3, shuffle=True, random_state=1)"
   ]
  },
  {
   "cell_type": "code",
   "execution_count": 8,
   "id": "bac13e4b-766a-4ea4-9537-f6c88f9678ad",
   "metadata": {},
   "outputs": [
    {
     "name": "stderr",
     "output_type": "stream",
     "text": [
      "/home/shan/.local/lib/python3.10/site-packages/sklearn/model_selection/_validation.py:839: UserWarning: Scoring failed. The score on this train-test partition for these parameters will be set to nan. Details: \n",
      "Traceback (most recent call last):\n",
      "  File \"/home/shan/.local/lib/python3.10/site-packages/sklearn/metrics/_scorer.py\", line 136, in __call__\n",
      "    score = scorer._score(\n",
      "  File \"/home/shan/.local/lib/python3.10/site-packages/sklearn/metrics/_scorer.py\", line 353, in _score\n",
      "    y_pred = method_caller(estimator, \"predict\", X)\n",
      "  File \"/home/shan/.local/lib/python3.10/site-packages/sklearn/metrics/_scorer.py\", line 86, in _cached_call\n",
      "    result, _ = _get_response_values(\n",
      "  File \"/home/shan/.local/lib/python3.10/site-packages/sklearn/utils/_response.py\", line 194, in _get_response_values\n",
      "    y_pred = prediction_method(X)\n",
      "  File \"/home/shan/.local/lib/python3.10/site-packages/sklearn/linear_model/_base.py\", line 451, in predict\n",
      "    scores = self.decision_function(X)\n",
      "  File \"/home/shan/.local/lib/python3.10/site-packages/sklearn/discriminant_analysis.py\", line 752, in decision_function\n",
      "    return super().decision_function(X)\n",
      "  File \"/home/shan/.local/lib/python3.10/site-packages/sklearn/linear_model/_base.py\", line 432, in decision_function\n",
      "    X = self._validate_data(X, accept_sparse=\"csr\", reset=False)\n",
      "  File \"/home/shan/.local/lib/python3.10/site-packages/sklearn/base.py\", line 605, in _validate_data\n",
      "    out = check_array(X, input_name=\"X\", **check_params)\n",
      "  File \"/home/shan/.local/lib/python3.10/site-packages/sklearn/utils/validation.py\", line 915, in check_array\n",
      "    array = _asarray_with_order(array, order=order, dtype=dtype, xp=xp)\n",
      "  File \"/home/shan/.local/lib/python3.10/site-packages/sklearn/utils/_array_api.py\", line 380, in _asarray_with_order\n",
      "    array = numpy.asarray(array, order=order, dtype=dtype)\n",
      "ValueError: could not convert string to float: 'Pregnancies'\n",
      "\n",
      "  warnings.warn(\n",
      "/home/shan/.local/lib/python3.10/site-packages/sklearn/model_selection/_validation.py:425: FitFailedWarning: \n",
      "2 fits failed out of a total of 3.\n",
      "The score on these train-test partitions for these parameters will be set to nan.\n",
      "If these failures are not expected, you can try to debug them by setting error_score='raise'.\n",
      "\n",
      "Below are more details about the failures:\n",
      "--------------------------------------------------------------------------------\n",
      "2 fits failed with the following error:\n",
      "Traceback (most recent call last):\n",
      "  File \"/home/shan/.local/lib/python3.10/site-packages/sklearn/model_selection/_validation.py\", line 729, in _fit_and_score\n",
      "    estimator.fit(X_train, y_train, **fit_params)\n",
      "  File \"/home/shan/.local/lib/python3.10/site-packages/sklearn/base.py\", line 1152, in wrapper\n",
      "    return fit_method(estimator, *args, **kwargs)\n",
      "  File \"/home/shan/.local/lib/python3.10/site-packages/sklearn/discriminant_analysis.py\", line 581, in fit\n",
      "    X, y = self._validate_data(\n",
      "  File \"/home/shan/.local/lib/python3.10/site-packages/sklearn/base.py\", line 622, in _validate_data\n",
      "    X, y = check_X_y(X, y, **check_params)\n",
      "  File \"/home/shan/.local/lib/python3.10/site-packages/sklearn/utils/validation.py\", line 1146, in check_X_y\n",
      "    X = check_array(\n",
      "  File \"/home/shan/.local/lib/python3.10/site-packages/sklearn/utils/validation.py\", line 915, in check_array\n",
      "    array = _asarray_with_order(array, order=order, dtype=dtype, xp=xp)\n",
      "  File \"/home/shan/.local/lib/python3.10/site-packages/sklearn/utils/_array_api.py\", line 380, in _asarray_with_order\n",
      "    array = numpy.asarray(array, order=order, dtype=dtype)\n",
      "ValueError: could not convert string to float: 'Pregnancies'\n",
      "\n",
      "  warnings.warn(some_fits_failed_message, FitFailedWarning)\n"
     ]
    }
   ],
   "source": [
    "# evaluate the model\n",
    "result = cross_val_score(model, X, y, cv=cv, scoring='accuracy')"
   ]
  },
  {
   "cell_type": "code",
   "execution_count": 9,
   "id": "235cf3dc-8604-4376-bdb6-f02b047f5066",
   "metadata": {},
   "outputs": [
    {
     "name": "stdout",
     "output_type": "stream",
     "text": [
      "ACCURACY : nan\n"
     ]
    }
   ],
   "source": [
    "# report the mean performance\n",
    "print('ACCURACY : %.3f' % result.mean())"
   ]
  },
  {
   "cell_type": "code",
   "execution_count": null,
   "id": "06c6000f-c2b9-4b19-a9ed-610689e7f6df",
   "metadata": {},
   "outputs": [],
   "source": []
  }
 ],
 "metadata": {
  "kernelspec": {
   "display_name": "Python 3 (ipykernel)",
   "language": "python",
   "name": "python3"
  },
  "language_info": {
   "codemirror_mode": {
    "name": "ipython",
    "version": 3
   },
   "file_extension": ".py",
   "mimetype": "text/x-python",
   "name": "python",
   "nbconvert_exporter": "python",
   "pygments_lexer": "ipython3",
   "version": "3.10.12"
  }
 },
 "nbformat": 4,
 "nbformat_minor": 5
}
